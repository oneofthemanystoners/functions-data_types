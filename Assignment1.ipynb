{
  "nbformat": 4,
  "nbformat_minor": 0,
  "metadata": {
    "colab": {
      "provenance": []
    },
    "kernelspec": {
      "name": "python3",
      "display_name": "Python 3"
    },
    "language_info": {
      "name": "python"
    }
  },
  "cells": [
    {
      "cell_type": "code",
      "source": [
        "#Key Features of Python That Makes It Popular\n",
        "\n",
        "1.Easy to Read and Write – Clean syntax similar to English.\n",
        "2.Interpreted Language – Code runs line-by-line, great for debugging.\n",
        "3.Dynamically Typed – No need to declare variable types.\n",
        "4.Large Standard Library – Comes with many built-in modules.\n",
        "5.Cross-platform – Runs on Windows, Mac, Linux.\n",
        "6.Versatile – Great for web dev, data science, AI, automation, etc.\n",
        "7.Community Support – Lots of tutorials, libraries, and forums."
      ],
      "metadata": {
        "collapsed": true,
        "id": "ACMC7AtMyoc1",
        "colab": {
          "base_uri": "https://localhost:8080/",
          "height": 106
        },
        "outputId": "014dbacc-d70d-47c8-c523-1eeadd686152"
      },
      "execution_count": null,
      "outputs": [
        {
          "output_type": "error",
          "ename": "SyntaxError",
          "evalue": "invalid decimal literal (<ipython-input-42-df388d1d2bd6>, line 3)",
          "traceback": [
            "\u001b[0;36m  File \u001b[0;32m\"<ipython-input-42-df388d1d2bd6>\"\u001b[0;36m, line \u001b[0;32m3\u001b[0m\n\u001b[0;31m    1.Easy to Read and Write – Clean syntax similar to English.\u001b[0m\n\u001b[0m     ^\u001b[0m\n\u001b[0;31mSyntaxError\u001b[0m\u001b[0;31m:\u001b[0m invalid decimal literal\n"
          ]
        }
      ]
    },
    {
      "cell_type": "code",
      "source": [
        "#keywords are predefined reserved words with specific meanings used to define stucture and rulws of programme.\n",
        "#Role of Keywords in Python:\n",
        " #Define the logic and structure of a Python program (e.g., conditions, loops, functions).\n",
        " #Cannot be used as variable names, because they have fixed meaning.\n",
        " #Help Python understand what action you want it to perform.\n",
        " #Make code more readable.\n",
        "import keyword\n",
        "print(*keyword.kwlist, sep='\\n')\n",
        "\n",
        "#now the example:\n",
        "#def,return used for function\n",
        "def greet(name):\n",
        "    return \"Hello \" + name\n",
        "\n",
        "print(greet(\"Abhinaba\"))\n",
        "#for,in used for loops\n",
        "for i in range(3):\n",
        "    print(i)  # prints 0, 1, 2\n",
        "#try,except used for error handling\n",
        "try:\n",
        "    x = 10 / 0\n",
        "except ZeroDivisionError:\n",
        "    print(\"Cannot divide by zero!\")\n"
      ],
      "metadata": {
        "colab": {
          "base_uri": "https://localhost:8080/"
        },
        "collapsed": true,
        "id": "YPESvWiQzhg-",
        "outputId": "529aaf04-9de6-4b44-e045-4fd45839b046"
      },
      "execution_count": null,
      "outputs": [
        {
          "output_type": "stream",
          "name": "stdout",
          "text": [
            "False\n",
            "None\n",
            "True\n",
            "and\n",
            "as\n",
            "assert\n",
            "async\n",
            "await\n",
            "break\n",
            "class\n",
            "continue\n",
            "def\n",
            "del\n",
            "elif\n",
            "else\n",
            "except\n",
            "finally\n",
            "for\n",
            "from\n",
            "global\n",
            "if\n",
            "import\n",
            "in\n",
            "is\n",
            "lambda\n",
            "nonlocal\n",
            "not\n",
            "or\n",
            "pass\n",
            "raise\n",
            "return\n",
            "try\n",
            "while\n",
            "with\n",
            "yield\n",
            "Hello Abhinaba\n",
            "0\n",
            "1\n",
            "2\n",
            "Cannot divide by zero!\n"
          ]
        }
      ]
    },
    {
      "cell_type": "code",
      "source": [
        "#Mutable objects are those whose values can be changed after creation.\n",
        "#Immutable objects are those whose values cannot be changed once they are created.\n",
        "\n",
        "#example for mutable data type (list)\n",
        "my_list = [1, 2, 3]\n",
        "my_list[0] = 100  # modifying the first element\n",
        "print(my_list)  # Output: [100, 2, 3]\n",
        "\n",
        "#example fro immutable data type (string)\n",
        "name = \"Abhi\"\n",
        "print(name)    # Output: Abhi\n",
        "# name[0] = 'a'  # error: strings are immutable\n",
        "name = \"Bhai\"  # Creates a new string\n",
        "print(name)    # Output: Bhai\n"
      ],
      "metadata": {
        "colab": {
          "base_uri": "https://localhost:8080/"
        },
        "collapsed": true,
        "id": "VF2nQ96G0JGu",
        "outputId": "281cb218-3d4a-4941-8067-e2b223d01d98"
      },
      "execution_count": null,
      "outputs": [
        {
          "output_type": "stream",
          "name": "stdout",
          "text": [
            "[100, 2, 3]\n",
            "Abhi\n",
            "Bhai\n"
          ]
        }
      ]
    },
    {
      "cell_type": "code",
      "source": [
        "#1. Arithmetic Operators\n",
        "#Used to perform basic mathematical operations like addition, subtraction, multiplication, division, and more.\n",
        "a = 10\n",
        "b = 3\n",
        "print(a + b)   # 13\n",
        "print(a - b)   # 7\n",
        "print(a * b)   # 30\n",
        "print(a / b)   # 3.333(appx)\n",
        "print(a // b)  # 3\n",
        "print(a % b)   # 1\n",
        "print(a ** b)  # 1000\n",
        "\n",
        "#2. Comparison (Relational) Operators\n",
        "#Used to compare two values to check for equality, greater than, less than, etc.\n",
        "x = 5\n",
        "y = 10\n",
        "print(x == y)  # False\n",
        "print(x != y)  # True\n",
        "print(x > y)   # False\n",
        "print(x < y)   # True\n",
        "print(x >= 5)  # True\n",
        "print(y <= 10) # True\n",
        "\n",
        "#3. Logical Operators\n",
        "#Used to combine multiple conditions (and/or/not).\n",
        "x = 5\n",
        "print(x > 2 and x < 10)   # True\n",
        "print(x < 2 or x > 3)     # True\n",
        "print(not (x > 3))        # False\n",
        "\n",
        "#4. Assignment Operators\n",
        "#Used to assign values to variables and modify their values in place.\n",
        "a = 10\n",
        "a += 5   # a = a + 5\n",
        "print(a)  # 15\n",
        "\n",
        "a -= 2   # a = a - 2\n",
        "print(a)  # 13\n",
        "\n",
        "a *= 2\n",
        "print(a)  # 26\n",
        "\n",
        "a /= 2\n",
        "print(a)  # 13.0\n",
        "\n",
        "#5. Bitwise Operators\n",
        "#Operate at the bit level, performing operations like AND, OR, XOR, NOT, and shifting.\n",
        "a = 5       # 0101\n",
        "b = 3       # 0011\n",
        "\n",
        "print(a & b)   # 1  (0001)\n",
        "print(a | b)   # 7  (0111)\n",
        "print(a ^ b)   # 6  (0110)\n",
        "print(~a)      # -6 (inverts bits)\n",
        "print(a << 1)  # 10 (left shift)\n",
        "print(a >> 1)  # 2  (right shift)\n",
        "\n",
        "#6. Membership Operators\n",
        "#Check if a value exists in a sequence (e.g., list, string, tuple).\n",
        "fruits = ['apple', 'banana', 'mango']\n",
        "\n",
        "print('apple' in fruits)      # True\n",
        "print('grape' not in fruits)  # True\n",
        "\n",
        "#7. Identity Operators\n",
        "#Checks if two variables refer to the same object in memory.\n",
        "x = [1, 2, 3]\n",
        "y = x\n",
        "z = [1, 2, 3]\n",
        "\n",
        "print(x is y)      # True (same memory)\n",
        "print(x is z)      # False (same value, different object)\n",
        "print(x is not z)  # True\n"
      ],
      "metadata": {
        "colab": {
          "base_uri": "https://localhost:8080/"
        },
        "collapsed": true,
        "id": "GpzuZp6I5K9_",
        "outputId": "ab6798d7-418d-4447-cc37-2db46d15de19"
      },
      "execution_count": null,
      "outputs": [
        {
          "output_type": "stream",
          "name": "stdout",
          "text": [
            "13\n",
            "7\n",
            "30\n",
            "3.3333333333333335\n",
            "3\n",
            "1\n",
            "1000\n",
            "False\n",
            "True\n",
            "False\n",
            "True\n",
            "True\n",
            "True\n",
            "True\n",
            "True\n",
            "False\n",
            "15\n",
            "13\n",
            "26\n",
            "13.0\n",
            "1\n",
            "7\n",
            "6\n",
            "-6\n",
            "10\n",
            "2\n",
            "True\n",
            "True\n",
            "True\n",
            "False\n",
            "True\n"
          ]
        }
      ]
    },
    {
      "cell_type": "code",
      "source": [
        "#Type casting is the process of converting a variable from one data type to another.\n",
        " #They are of 2 types: A) Implicit; B) Xplicit\n",
        "\n",
        "#example:\n",
        "s = \"100\"\n",
        "n = int(s)  # Converting string to integer\n",
        "print(n)    # Output: 100\n",
        "\n",
        "num = 10\n",
        "f = float(num)  # Converting int to float\n",
        "print(f)         # Output: 10.0\n"
      ],
      "metadata": {
        "colab": {
          "base_uri": "https://localhost:8080/"
        },
        "collapsed": true,
        "id": "EQ75BGRB8KAj",
        "outputId": "e677ae6c-91e6-4c36-f859-f6d01afa581d"
      },
      "execution_count": null,
      "outputs": [
        {
          "output_type": "stream",
          "name": "stdout",
          "text": [
            "100\n",
            "10.0\n"
          ]
        }
      ]
    },
    {
      "cell_type": "code",
      "source": [
        "#Conditional statements are used to execute a block of code based on whether a condition is True or False. (if, if-else,if-elif-else)\n",
        "#if condition:\n",
        "    # code to execute if condition is True\n",
        "x = int(input('Enter'))\n",
        "\n",
        "if x > 5:\n",
        "    print(\"x is greater than 5\") #if True print this.\n",
        "else:\n",
        "    print(\"x is not greater than 5\") #if False print this.\n"
      ],
      "metadata": {
        "colab": {
          "base_uri": "https://localhost:8080/"
        },
        "collapsed": true,
        "id": "frGGIHY59KEv",
        "outputId": "f4dd3746-631c-4d6c-dfeb-93c3a034e152"
      },
      "execution_count": null,
      "outputs": [
        {
          "output_type": "stream",
          "name": "stdout",
          "text": [
            "Enter6\n",
            "x is greater than 5\n"
          ]
        }
      ]
    },
    {
      "cell_type": "code",
      "source": [
        "#A loop is a function that repeats a block of code multiple times aslong as a certain condition satisfies.\n",
        " #They are of 6 types:\n",
        "# for loop example\n",
        "fruits = [\"apple\", \"banana\", \"cherry\"]\n",
        "for fruit in fruits:\n",
        "    print(fruit)\n",
        "\n",
        "#while loop example\n",
        "# Example of counting from 1 to 5\n",
        "count = 1\n",
        "while count <= 5:\n",
        "    print(count)\n",
        "    count += 1\n",
        "\n",
        "#break statement example\n",
        "# Example to stop the loop when a number is found\n",
        "for num in range(1, 10):\n",
        "    if num == 5:\n",
        "        break  # Exit the loop when num is 5\n",
        "    print(num)\n",
        "\n",
        "#continue statement example\n",
        "# Example to skip printing even numbers\n",
        "for num in range(1, 6):\n",
        "    if num % 2 == 0:\n",
        "        continue  # Skip even numbers\n",
        "    print(num)\n",
        "\n",
        "#nested loop example\n",
        "# Example with a nested for loop to print a multiplication table\n",
        "for i in range(1, 4):\n",
        "    for j in range(1, 4):\n",
        "        print(i * j, end=\" \")\n",
        "    print()  # Move to the next line\n",
        "\n",
        "\n",
        "#else clause example\n",
        "# Example with a nested for loop to print a multiplication table\n",
        "# Example to search for a number in a list\n",
        "numbers = [1, 2, 3, 4, 5]\n",
        "for num in numbers:\n",
        "    if num == 3:\n",
        "        print(\"Found 3!\")\n",
        "        break\n",
        "else:\n",
        "    print(\"3 not found\")\n"
      ],
      "metadata": {
        "colab": {
          "base_uri": "https://localhost:8080/"
        },
        "collapsed": true,
        "id": "Tk0EGR7S_plu",
        "outputId": "92d9a8dd-7b82-4dfd-c064-28f6bb0c60e3"
      },
      "execution_count": null,
      "outputs": [
        {
          "output_type": "stream",
          "name": "stdout",
          "text": [
            "apple\n",
            "banana\n",
            "cherry\n",
            "1\n",
            "2\n",
            "3\n",
            "4\n",
            "5\n",
            "1\n",
            "2\n",
            "3\n",
            "4\n",
            "1\n",
            "3\n",
            "5\n",
            "1 2 3 \n",
            "2 4 6 \n",
            "3 6 9 \n",
            "Found 3!\n"
          ]
        }
      ]
    }
  ]
}